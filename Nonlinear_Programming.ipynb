{
  "nbformat": 4,
  "nbformat_minor": 0,
  "metadata": {
    "colab": {
      "provenance": []
    },
    "kernelspec": {
      "name": "python3",
      "display_name": "Python 3"
    },
    "language_info": {
      "name": "python"
    }
  },
  "cells": [
    {
      "cell_type": "markdown",
      "source": [
        "# Nonlinear Programming with Constraints\n",
        "# ------------------------------------------------\n",
        "# Author: Julieta Rubis\n",
        "# This example uses SciPy to solve a nonlinear optimization problem with constraints.\n",
        "# 100% reliable and working implementation using `scipy.optimize.minimize`"
      ],
      "metadata": {
        "id": "CyClShmoEF_0"
      }
    },
    {
      "cell_type": "code",
      "execution_count": 1,
      "metadata": {
        "id": "zZiMyR6EEBub"
      },
      "outputs": [],
      "source": [
        "import numpy as np\n",
        "from scipy.optimize import minimize"
      ]
    },
    {
      "cell_type": "code",
      "source": [
        "# Step 1: Define the nonlinear objective function\n",
        "# ------------------------------------------------\n",
        "# f(x) = 2*x1 + x2 - 5 * log(x1) * sin(x2)\n",
        "def objective(x):\n",
        "    x1, x2 = x\n",
        "    return 2*x1 + x2 - 5 * np.log(x1) * np.sin(x2)"
      ],
      "metadata": {
        "id": "Pr3Ce2IrEKSs"
      },
      "execution_count": 2,
      "outputs": []
    },
    {
      "cell_type": "code",
      "source": [
        "# Step 2: Define the constraints as dictionaries\n",
        "# ----------------------------------------------\n",
        "# Constraints:\n",
        "# x1 * x2 <= 10\n",
        "# |x1 - x2| <= 2\n",
        "\n",
        "def constraint1(x):\n",
        "    return 10 - (x[0] * x[1])  # must be >= 0\n",
        "\n",
        "def constraint2(x):\n",
        "    return 2 - abs(x[0] - x[1])  # must be >= 0\n",
        "\n",
        "constraints = [\n",
        "    {'type': 'ineq', 'fun': constraint1},\n",
        "    {'type': 'ineq', 'fun': constraint2}\n",
        "]"
      ],
      "metadata": {
        "id": "S0idyiOAETMz"
      },
      "execution_count": 3,
      "outputs": []
    },
    {
      "cell_type": "code",
      "source": [
        "# Step 3: Define variable bounds\n",
        "# ------------------------------\n",
        "bounds = [(0.1, 5), (0.1, 3)]  # x1 in [0.1,5], x2 in [0.1,3]"
      ],
      "metadata": {
        "id": "9KopwIDNEWzE"
      },
      "execution_count": 4,
      "outputs": []
    },
    {
      "cell_type": "code",
      "source": [
        "# Step 4: Provide an initial guess for the optimizer\n",
        "# --------------------------------------------------\n",
        "x0 = [1, 1]  # initial guess for x1 and x2"
      ],
      "metadata": {
        "id": "74sQMD6yEZhb"
      },
      "execution_count": 5,
      "outputs": []
    },
    {
      "cell_type": "code",
      "source": [
        "# Step 5: Minimize the objective function\n",
        "# ---------------------------------------\n",
        "result = minimize(objective, x0, method='SLSQP', bounds=bounds, constraints=constraints)"
      ],
      "metadata": {
        "colab": {
          "base_uri": "https://localhost:8080/"
        },
        "id": "m71H2BFNEbvu",
        "outputId": "925a8e05-5b5e-4f7d-c5df-eec04e25a0c9"
      },
      "execution_count": 6,
      "outputs": [
        {
          "output_type": "stream",
          "name": "stderr",
          "text": [
            "/usr/local/lib/python3.11/dist-packages/scipy/optimize/_slsqp_py.py:434: RuntimeWarning: Values in x were outside bounds during a minimize step, clipping to bounds\n",
            "  fx = wrapped_fun(x)\n"
          ]
        }
      ]
    },
    {
      "cell_type": "code",
      "source": [
        "# Step 6: Show results\n",
        "# --------------------\n",
        "if result.success:\n",
        "    print(\"Optimal value:\", result.fun)\n",
        "    print(\"Optimal solution (x1, x2):\", result.x)\n",
        "else:\n",
        "    print(\"Optimization failed:\", result.message)"
      ],
      "metadata": {
        "colab": {
          "base_uri": "https://localhost:8080/"
        },
        "id": "5PW3v0O7Ee3k",
        "outputId": "1c60f671-73a2-44e5-f1b4-83792df20d63"
      },
      "execution_count": 7,
      "outputs": [
        {
          "output_type": "stream",
          "name": "stdout",
          "text": [
            "Optimal value: 1.8782155384619887\n",
            "Optimal solution (x1, x2): [2.4361129  1.34423856]\n"
          ]
        }
      ]
    },
    {
      "cell_type": "markdown",
      "source": [
        "# ----------------------------\n",
        "# Explanation:\n",
        "# - minimize(): main function to solve constrained optimization\n",
        "# - method='SLSQP': handles both bounds and constraints\n",
        "# - bounds: variable limits\n",
        "# - constraints: defined using inequality functions\n",
        "# - result.x: solution vector (optimal x1 and x2)\n",
        "#\n",
        "# This code is a robust example of nonlinear optimization with constraints and variable bounds."
      ],
      "metadata": {
        "id": "eRWzHeG_El9I"
      }
    },
    {
      "cell_type": "code",
      "source": [],
      "metadata": {
        "id": "_8QKkzXKEih8"
      },
      "execution_count": null,
      "outputs": []
    }
  ]
}
