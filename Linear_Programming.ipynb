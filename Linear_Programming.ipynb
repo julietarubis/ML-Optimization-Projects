{
  "nbformat": 4,
  "nbformat_minor": 0,
  "metadata": {
    "colab": {
      "provenance": []
    },
    "kernelspec": {
      "name": "python3",
      "display_name": "Python 3"
    },
    "language_info": {
      "name": "python"
    }
  },
  "cells": [
    {
      "cell_type": "markdown",
      "source": [
        "# Lesson 3: Linear Programming for Optimization\n",
        "# ---------------------------------------------\n",
        "# Author: Julieta Rubis\n",
        "# This example solves a resource allocation problem using linear programming.\n",
        "# 100% working and reliable using SciPy's linprog"
      ],
      "metadata": {
        "id": "cmlPERGnDhze"
      }
    },
    {
      "cell_type": "code",
      "execution_count": 1,
      "metadata": {
        "id": "pygzqd6vDdKL"
      },
      "outputs": [],
      "source": [
        "from scipy.optimize import linprog"
      ]
    },
    {
      "cell_type": "code",
      "source": [
        "# Step 1: Define the objective function coefficients\n",
        "# ---------------------------------------------------\n",
        "# We want to minimize: cost = 0.6*x1 + 0.35*x2\n",
        "# Since linprog performs minimization, we provide the coefficients directly\n",
        "c = [0.6, 0.35]  # coefficients for x1 (grain 1) and x2 (grain 2)"
      ],
      "metadata": {
        "id": "oSjCPsEKDlNj"
      },
      "execution_count": 2,
      "outputs": []
    },
    {
      "cell_type": "code",
      "source": [
        "# Step 2: Define inequality constraints (Ax <= b)\n",
        "# -----------------------------------------------\n",
        "# Each row of A corresponds to a constraint:\n",
        "# 5x1 + 7x2 >= 8   -->   -5x1 - 7x2 <= -8\n",
        "# 4x1 + 2x2 >= 15  -->   -4x1 - 2x2 <= -15\n",
        "# 2x1 + 1x2 >= 3   -->   -2x1 - 1x2 <= -3\n",
        "A = [\n",
        "    [-5, -7],\n",
        "    [-4, -2],\n",
        "    [-2, -1]\n",
        "]\n",
        "b = [-8, -15, -3]"
      ],
      "metadata": {
        "id": "ZhSE_PrhDn4E"
      },
      "execution_count": 3,
      "outputs": []
    },
    {
      "cell_type": "code",
      "source": [
        "# Step 3: Set bounds for each variable (x1 and x2 must be >= 0)\n",
        "# -------------------------------------------------------------\n",
        "bounds = [(0, None), (0, None)]"
      ],
      "metadata": {
        "id": "QYAawHOkDsUL"
      },
      "execution_count": 4,
      "outputs": []
    },
    {
      "cell_type": "code",
      "source": [
        "# Step 4: Solve the linear programming problem\n",
        "# --------------------------------------------\n",
        "res = linprog(c=c, A_ub=A, b_ub=b, bounds=bounds, method='highs')"
      ],
      "metadata": {
        "id": "BIYhZ-caDu0g"
      },
      "execution_count": 5,
      "outputs": []
    },
    {
      "cell_type": "code",
      "source": [
        "# Step 5: Display the results\n",
        "# ---------------------------\n",
        "if res.success:\n",
        "    print(\"Optimal value (min cost):\", res.fun)\n",
        "    print(\"Optimal values of x1 and x2:\")\n",
        "    print(\"x1 (units of grain 1):\", res.x[0])\n",
        "    print(\"x2 (units of grain 2):\", res.x[1])\n",
        "else:\n",
        "    print(\"Optimization failed:\", res.message)"
      ],
      "metadata": {
        "colab": {
          "base_uri": "https://localhost:8080/"
        },
        "id": "OdGyz3OCDxM6",
        "outputId": "73351022-cb6e-4182-97c4-d9940d0daaa4"
      },
      "execution_count": 6,
      "outputs": [
        {
          "output_type": "stream",
          "name": "stdout",
          "text": [
            "Optimal value (min cost): 2.25\n",
            "Optimal values of x1 and x2:\n",
            "x1 (units of grain 1): 3.75\n",
            "x2 (units of grain 2): 0.0\n"
          ]
        }
      ]
    },
    {
      "cell_type": "markdown",
      "source": [
        "# ----------------------------\n",
        "# Explanation:\n",
        "# - linprog(): solves linear programming problems\n",
        "# - c: coefficients of the objective function to minimize\n",
        "# - A_ub, b_ub: inequality constraint matrix (A_ub * x <= b_ub)\n",
        "# - bounds: variable limits (x >= 0)\n",
        "# - res.x: solution (values of x1 and x2)\n",
        "#\n",
        "# This code can be reused for any LP problem by adjusting c, A, b, and bounds."
      ],
      "metadata": {
        "id": "abfrD9a5D3gm"
      }
    }
  ]
}